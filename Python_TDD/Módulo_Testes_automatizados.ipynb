{
 "cells": [
  {
   "cell_type": "markdown",
   "id": "7d303bbc",
   "metadata": {},
   "source": [
    "# Aulas Alura TDD em Python"
   ]
  },
  {
   "cell_type": "markdown",
   "id": "8ce44916",
   "metadata": {},
   "source": [
    "### Módulo 1: Testes automatizados"
   ]
  },
  {
   "cell_type": "markdown",
   "id": "22a7a346",
   "metadata": {},
   "source": [
    "Teste Manual:\n",
    "    - Lento\n",
    "    - Sujeito a falhas humanas\n",
    "    - Inconveniente\n",
    "\n",
    "Teste Automatizado:\n",
    "    - Automático\n",
    "    - Feedback rápido\n",
    "    - Segurança em alteração de código"
   ]
  },
  {
   "cell_type": "markdown",
   "id": "9aa9e90a",
   "metadata": {},
   "source": [
    "Tipos de Testes:\n",
    "    - Teste unitário\n",
    "    - de integração\n",
    "    - de ponta a ponta"
   ]
  },
  {
   "cell_type": "code",
   "execution_count": null,
   "id": "6dd59463",
   "metadata": {},
   "outputs": [],
   "source": []
  }
 ],
 "metadata": {
  "kernelspec": {
   "display_name": "Python 3 (ipykernel)",
   "language": "python",
   "name": "python3"
  },
  "language_info": {
   "codemirror_mode": {
    "name": "ipython",
    "version": 3
   },
   "file_extension": ".py",
   "mimetype": "text/x-python",
   "name": "python",
   "nbconvert_exporter": "python",
   "pygments_lexer": "ipython3",
   "version": "3.8.10"
  }
 },
 "nbformat": 4,
 "nbformat_minor": 5
}
