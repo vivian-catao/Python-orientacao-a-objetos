{
 "cells": [
  {
   "cell_type": "markdown",
   "id": "125ee7d7",
   "metadata": {},
   "source": [
    "# Curso Alura: Orientação a objetos Python"
   ]
  },
  {
   "cell_type": "markdown",
   "id": "b786b2ce",
   "metadata": {},
   "source": [
    "### Aula 1: Implementações de funções para uma conta bancária"
   ]
  },
  {
   "cell_type": "code",
   "execution_count": 2,
   "id": "91b9f30a",
   "metadata": {},
   "outputs": [],
   "source": [
    "def cria_conta(numero, titular, saldo, limite):\n",
    "    conta = {\"numero\": numero, \"titular\": titular, \"saldo\": saldo, \"limite\": limite}\n",
    "    return conta\n",
    "\n",
    "def deposita(conta, valor):\n",
    "    conta[\"saldo\"] += valor\n",
    "\n",
    "def saca(conta, valor):\n",
    "    conta[\"saldo\"] -= valor\n",
    "\n",
    "def extrato(conta):\n",
    "    return print(\"O saldo da sua conta é: {}\" .format(conta[\"saldo\"]))"
   ]
  },
  {
   "cell_type": "markdown",
   "id": "456567d7",
   "metadata": {},
   "source": [
    "#### TESTE:"
   ]
  },
  {
   "cell_type": "code",
   "execution_count": 3,
   "id": "ceb4a6b2",
   "metadata": {},
   "outputs": [
    {
     "name": "stdout",
     "output_type": "stream",
     "text": [
      "O saldo da sua conta é: 355.0\n",
      "O saldo da sua conta é: 255.0\n"
     ]
    }
   ],
   "source": [
    "conta = cria_conta(123, \"Nico\", 55.0, 1000.0)\n",
    "deposita(conta, 300.0)\n",
    "extrato(conta)\n",
    "\n",
    "saca(conta, 100.0)\n",
    "extrato(conta)\n"
   ]
  },
  {
   "cell_type": "markdown",
   "id": "41231b84",
   "metadata": {},
   "source": [
    "### Aula 2: Implementação da classe para uma conta bancária \n"
   ]
  },
  {
   "cell_type": "code",
   "execution_count": 25,
   "id": "b0e46f95",
   "metadata": {},
   "outputs": [],
   "source": [
    "class Conta:\n",
    "    def __init__(self, numero, titular, saldo, limite = 1000.0): #Função construtura\n",
    "        print (\"Construindo objeto {}\".format(self))\n",
    "        self.numero = numero\n",
    "        self.titular = titular\n",
    "        self.saldo = saldo\n",
    "        self.limite = limite\n",
    "        \n",
    "        \n",
    "        \n",
    "    "
   ]
  },
  {
   "cell_type": "code",
   "execution_count": 26,
   "id": "72aa5100",
   "metadata": {},
   "outputs": [
    {
     "name": "stdout",
     "output_type": "stream",
     "text": [
      "Construindo objeto <__main__.Conta object at 0x7fef2bd08eb0>\n",
      "Construindo objeto <__main__.Conta object at 0x7fef2bd087c0>\n"
     ]
    }
   ],
   "source": [
    "conta1 = Conta(123, \"Nico\", 55.5)\n",
    "conta2 = Conta(124, \"Marco\", 50.0, 2000.0)"
   ]
  },
  {
   "cell_type": "code",
   "execution_count": 28,
   "id": "19a747b3",
   "metadata": {},
   "outputs": [
    {
     "data": {
      "text/plain": [
       "50.0"
      ]
     },
     "execution_count": 28,
     "metadata": {},
     "output_type": "execute_result"
    }
   ],
   "source": [
    "conta2.saldo"
   ]
  },
  {
   "cell_type": "markdown",
   "id": "eac8fa9a",
   "metadata": {},
   "source": [
    "### Aula 3: Implementação dos métodos para a classe da conta bancária "
   ]
  },
  {
   "cell_type": "code",
   "execution_count": 40,
   "id": "35c6eabb",
   "metadata": {},
   "outputs": [],
   "source": [
    "class Conta:\n",
    "    def __init__(self, numero, titular, saldo, limite = 1000.0): #Função construtura\n",
    "        print (\"Construindo objeto {}\".format(self))\n",
    "        self.numero = numero\n",
    "        self.titular = titular\n",
    "        self.saldo = saldo\n",
    "        self.limite = limite\n",
    "    \n",
    "    def extrato(self):\n",
    "        return print(\"Olá {}, o saldo da sua conta é: {}\" .format(self.titular, self.saldo))\n",
    "    \n",
    "    def deposita(self, valor):\n",
    "        self.saldo += valor\n",
    "\n",
    "    def saca(self, valor):\n",
    "        self.saldo -= valor\n",
    "    "
   ]
  },
  {
   "cell_type": "code",
   "execution_count": 41,
   "id": "797e841b",
   "metadata": {},
   "outputs": [
    {
     "name": "stdout",
     "output_type": "stream",
     "text": [
      "Construindo objeto <__main__.Conta object at 0x7fef282c9af0>\n"
     ]
    }
   ],
   "source": [
    "conta1 = Conta(123, \"Nico\", 55.5)"
   ]
  },
  {
   "cell_type": "code",
   "execution_count": 42,
   "id": "38aa62b6",
   "metadata": {},
   "outputs": [],
   "source": [
    "conta1.deposita(5.0)"
   ]
  },
  {
   "cell_type": "code",
   "execution_count": 43,
   "id": "1301d022",
   "metadata": {},
   "outputs": [
    {
     "name": "stdout",
     "output_type": "stream",
     "text": [
      "Olá Nico, o saldo da sua conta é: 60.5\n"
     ]
    }
   ],
   "source": [
    "conta1.extrato()"
   ]
  },
  {
   "cell_type": "code",
   "execution_count": 47,
   "id": "081fafc0",
   "metadata": {},
   "outputs": [
    {
     "name": "stdout",
     "output_type": "stream",
     "text": [
      "Olá Nico, o saldo da sua conta é: 20.5\n"
     ]
    }
   ],
   "source": [
    "conta1.saca(10.0)\n",
    "conta1.extrato()"
   ]
  },
  {
   "cell_type": "markdown",
   "id": "3b39f98c",
   "metadata": {},
   "source": [
    "# Exercício 1"
   ]
  },
  {
   "cell_type": "markdown",
   "id": "2f709b11",
   "metadata": {},
   "source": [
    "Chalita decidiu aplicar o que aprendeu na aula sobre método em Python. Ele criou a classe Pessoa que recebe em seu \"construtor\" um nome e sobrenome e que declara o único método exibe_nome_e_sobrenome(). Vejamos o código que ele escreveu:\n",
    "    "
   ]
  },
  {
   "cell_type": "code",
   "execution_count": 52,
   "id": "6df87310",
   "metadata": {},
   "outputs": [],
   "source": [
    "class Pessoa:\n",
    "    def __init__(self, nome, sobrenome):\n",
    "        self.nome = nome\n",
    "        self.sobrenome = sobrenome\n",
    "\n",
    "    def exibe_nome_e_sobrenome(self):\n",
    "        print(\"{0} {1}\".format(self.nome, self.sobrenome))\n",
    "\n"
   ]
  },
  {
   "cell_type": "code",
   "execution_count": 53,
   "id": "658c4925",
   "metadata": {},
   "outputs": [
    {
     "name": "stdout",
     "output_type": "stream",
     "text": [
      "Chalita Steppat\n"
     ]
    }
   ],
   "source": [
    "pessoa = Pessoa(\"Chalita\", \"Steppat\")\n",
    "pessoa.exibe_nome_e_sobrenome()"
   ]
  },
  {
   "cell_type": "markdown",
   "id": "bbc4aed3",
   "metadata": {},
   "source": [
    "# Exercício 2"
   ]
  },
  {
   "cell_type": "markdown",
   "id": "794cee2b",
   "metadata": {},
   "source": [
    "Crie uma classe Jogo com o método incrementa() que, ao ser chamado, atualizará o valor do atributo self.contador."
   ]
  },
  {
   "cell_type": "code",
   "execution_count": 63,
   "id": "dd3539de",
   "metadata": {},
   "outputs": [],
   "source": [
    "class Jogo:\n",
    "    def __init__(self):\n",
    "        self.contador = 0\n",
    "\n",
    "    def incrementa(self):\n",
    "        self.contador+=1"
   ]
  },
  {
   "cell_type": "code",
   "execution_count": 64,
   "id": "2751e166",
   "metadata": {},
   "outputs": [],
   "source": [
    "jogo1 = Jogo()"
   ]
  },
  {
   "cell_type": "code",
   "execution_count": 65,
   "id": "d501becd",
   "metadata": {},
   "outputs": [],
   "source": [
    "jogo1.incrementa()"
   ]
  },
  {
   "cell_type": "code",
   "execution_count": 67,
   "id": "87973eec",
   "metadata": {},
   "outputs": [
    {
     "name": "stdout",
     "output_type": "stream",
     "text": [
      "1\n"
     ]
    }
   ],
   "source": [
    "print(jogo1.contador)"
   ]
  },
  {
   "cell_type": "markdown",
   "id": "fe488ed5",
   "metadata": {},
   "source": [
    "# Exercício 3"
   ]
  },
  {
   "cell_type": "markdown",
   "id": "df665170",
   "metadata": {},
   "source": [
    "Francisco precisa criar a classe chamada Sistema com os métodos le_entrada() e exibe_saida(). O primeiro, ao ser chamado, deve ler do teclado um texto qualquer e guardar internamente na propriedade texto. Já o segundo método, quando for chamado, deve exibir o valor de texto. Exemplo de uso:\n",
    "\n",
    "sistema = Sistema()\n",
    "\n",
    "sistema.le_entrada()\n",
    "\n",
    "sistema.exibe_saida()"
   ]
  },
  {
   "cell_type": "code",
   "execution_count": 1,
   "id": "3c2d4af1",
   "metadata": {},
   "outputs": [],
   "source": [
    "class Sistema:\n",
    "    def __init__(self):\n",
    "        self.texto = ''\n",
    "        \n",
    "    def le_entrada(self):\n",
    "        self.texto = input('Digite um texto qualquer:')\n",
    "    \n",
    "    def exibe_saida(self):\n",
    "        print(self.texto)\n",
    "        "
   ]
  },
  {
   "cell_type": "code",
   "execution_count": 2,
   "id": "8f4ef3fd",
   "metadata": {},
   "outputs": [],
   "source": [
    "sistema = Sistema()"
   ]
  },
  {
   "cell_type": "code",
   "execution_count": 3,
   "id": "d3f9dda4",
   "metadata": {},
   "outputs": [
    {
     "name": "stdout",
     "output_type": "stream",
     "text": [
      "Digite um texto qualquer:Olá, um texto qualquer!\n"
     ]
    }
   ],
   "source": [
    "sistema.le_entrada()"
   ]
  },
  {
   "cell_type": "code",
   "execution_count": 4,
   "id": "d77f1838",
   "metadata": {},
   "outputs": [
    {
     "name": "stdout",
     "output_type": "stream",
     "text": [
      "Olá, um texto qualquer!\n"
     ]
    }
   ],
   "source": [
    "sistema.exibe_saida()"
   ]
  }
 ],
 "metadata": {
  "kernelspec": {
   "display_name": "Python 3 (ipykernel)",
   "language": "python",
   "name": "python3"
  },
  "language_info": {
   "codemirror_mode": {
    "name": "ipython",
    "version": 3
   },
   "file_extension": ".py",
   "mimetype": "text/x-python",
   "name": "python",
   "nbconvert_exporter": "python",
   "pygments_lexer": "ipython3",
   "version": "3.8.10"
  }
 },
 "nbformat": 4,
 "nbformat_minor": 5
}
