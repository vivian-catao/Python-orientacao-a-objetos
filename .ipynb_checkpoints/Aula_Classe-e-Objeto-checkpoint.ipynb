{
 "cells": [
  {
   "cell_type": "markdown",
   "id": "125ee7d7",
   "metadata": {},
   "source": [
    "# Curso Alura: Orientação a objetos Python"
   ]
  },
  {
   "cell_type": "markdown",
   "id": "b786b2ce",
   "metadata": {},
   "source": [
    "### Aula 1: Implementações de funções para uma conta bancária"
   ]
  },
  {
   "cell_type": "code",
   "execution_count": 2,
   "id": "91b9f30a",
   "metadata": {},
   "outputs": [],
   "source": [
    "def cria_conta(numero, titular, saldo, limite):\n",
    "    conta = {\"numero\": numero, \"titular\": titular, \"saldo\": saldo, \"limite\": limite}\n",
    "    return conta\n",
    "\n",
    "def deposita(conta, valor):\n",
    "    conta[\"saldo\"] += valor\n",
    "\n",
    "def saca(conta, valor):\n",
    "    conta[\"saldo\"] -= valor\n",
    "\n",
    "def extrato(conta):\n",
    "    return print(\"O saldo da sua conta é: {}\" .format(conta[\"saldo\"]))"
   ]
  },
  {
   "cell_type": "markdown",
   "id": "456567d7",
   "metadata": {},
   "source": [
    "#### TESTE:"
   ]
  },
  {
   "cell_type": "code",
   "execution_count": 3,
   "id": "ceb4a6b2",
   "metadata": {},
   "outputs": [
    {
     "name": "stdout",
     "output_type": "stream",
     "text": [
      "O saldo da sua conta é: 355.0\n",
      "O saldo da sua conta é: 255.0\n"
     ]
    }
   ],
   "source": [
    "conta = cria_conta(123, \"Nico\", 55.0, 1000.0)\n",
    "deposita(conta, 300.0)\n",
    "extrato(conta)\n",
    "\n",
    "saca(conta, 100.0)\n",
    "extrato(conta)\n"
   ]
  },
  {
   "cell_type": "markdown",
   "id": "41231b84",
   "metadata": {},
   "source": [
    "### Aula 2: Implementação da classe para uma conta bancária "
   ]
  },
  {
   "cell_type": "code",
   "execution_count": 5,
   "id": "b0e46f95",
   "metadata": {},
   "outputs": [],
   "source": [
    "class Conta:\n",
    "    pass \n",
    "    "
   ]
  },
  {
   "cell_type": "code",
   "execution_count": 6,
   "id": "72aa5100",
   "metadata": {},
   "outputs": [],
   "source": [
    "conta = Conta()"
   ]
  },
  {
   "cell_type": "code",
   "execution_count": null,
   "id": "19a747b3",
   "metadata": {},
   "outputs": [],
   "source": []
  },
  {
   "cell_type": "code",
   "execution_count": null,
   "id": "af450d92",
   "metadata": {},
   "outputs": [],
   "source": []
  },
  {
   "cell_type": "code",
   "execution_count": null,
   "id": "35c6eabb",
   "metadata": {},
   "outputs": [],
   "source": []
  },
  {
   "cell_type": "markdown",
   "id": "141ced3a",
   "metadata": {},
   "source": []
  }
 ],
 "metadata": {
  "kernelspec": {
   "display_name": "Python 3 (ipykernel)",
   "language": "python",
   "name": "python3"
  },
  "language_info": {
   "codemirror_mode": {
    "name": "ipython",
    "version": 3
   },
   "file_extension": ".py",
   "mimetype": "text/x-python",
   "name": "python",
   "nbconvert_exporter": "python",
   "pygments_lexer": "ipython3",
   "version": "3.8.10"
  }
 },
 "nbformat": 4,
 "nbformat_minor": 5
}
